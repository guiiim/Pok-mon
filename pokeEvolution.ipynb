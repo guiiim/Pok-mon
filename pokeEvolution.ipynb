{
 "cells": [
  {
   "cell_type": "code",
   "execution_count": 1,
   "id": "a6a99721",
   "metadata": {},
   "outputs": [],
   "source": [
    "import pokebase as pb\n",
    "import pandas as pd"
   ]
  },
  {
   "cell_type": "markdown",
   "id": "e184044e",
   "metadata": {},
   "source": [
    "geracoes = []\n",
    "pokemonCount = 0\n",
    "\n",
    "for i in range(1, 4):\n",
    "    try:\n",
    "        gen_resource = pb.generation(i)\n",
    "        geracoes.append(i)\n",
    "    except:\n",
    "        break\n",
    "for i in geracoes:\n",
    "    gen_resource = pb.generation(i)\n",
    "    pokemonCount += len(gen_resource.pokemon_species)\n",
    "    \n"
   ]
  },
  {
   "cell_type": "markdown",
   "id": "8c362f74",
   "metadata": {},
   "source": [
    "1 - 151 (151)\n",
    "2 - 100 (251)\n",
    "3 - 135 (386) (ok)\n",
    "4 - 107 (493)\n",
    "5 - 156 (649)\n",
    "6 - 72  (721)\n",
    "7 - 88  (809)\n",
    "8 - 96  (905)\n",
    "9 - 103 (1008)"
   ]
  },
  {
   "cell_type": "code",
   "execution_count": 14,
   "id": "e16ce0da",
   "metadata": {},
   "outputs": [],
   "source": [
    "#initialize an empty list to store the data\n",
    "data = []\n",
    "\n",
    "#iterate through all pokemon and get the id, name and evolution\n",
    "#for i in range(1, pokemonCount):\n",
    "for i in range(1008, 1009):\n",
    "    try:\n",
    "        pokemon = pb.pokemon(i)\n",
    "        id = pokemon.id\n",
    "        name = pokemon.name\n",
    "        try:\n",
    "            evolution = pb.pokemon_species(pokemon.species.id).evolves_from_species.name\n",
    "        except:\n",
    "            evolution = None\n",
    "        data.append([id, name, evolution])\n",
    "    except:\n",
    "        pass"
   ]
  },
  {
   "cell_type": "code",
   "execution_count": 15,
   "id": "a8a7bb18",
   "metadata": {},
   "outputs": [],
   "source": [
    "#create a dataframe from the list\n",
    "df = pd.DataFrame(data, columns=['ID', 'Name', 'From Evolution'])"
   ]
  },
  {
   "cell_type": "code",
   "execution_count": 16,
   "id": "01eae52b",
   "metadata": {
    "scrolled": false
   },
   "outputs": [
    {
     "name": "stdout",
     "output_type": "stream",
     "text": [
      "     ID      Name From Evolution\n",
      "0  1008  miraidon        bisharp\n"
     ]
    }
   ],
   "source": [
    "# Print the dataframe\n",
    "print(df)"
   ]
  },
  {
   "cell_type": "code",
   "execution_count": 17,
   "id": "06d1b59e",
   "metadata": {},
   "outputs": [],
   "source": [
    "df.to_csv('C:/Users/71407200/Desktop/dbPoke_evol5.csv', index=False)"
   ]
  },
  {
   "cell_type": "markdown",
   "id": "c90de2a2",
   "metadata": {},
   "source": [
    "#initialize an empty list to store the data\n",
    "new_data = []\n",
    "\n",
    "# Iterate through the original dataframe\n",
    "for index, row in df.iterrows():\n",
    "    id = row[\"ID\"]\n",
    "    first_evolution = row[\"Name\"]\n",
    "    second_evolution = row[\"Evolution\"]\n",
    "    third_evolution = None\n",
    "    if second_evolution:\n",
    "        #get the third evolution using the second evolution name\n",
    "        try:\n",
    "            third_evolution = pb.pokemon_species(second_evolution).evolves_to_species.name\n",
    "        except:\n",
    "            pass\n",
    "    new_data.append([id, first_evolution, second_evolution, third_evolution])"
   ]
  },
  {
   "cell_type": "markdown",
   "id": "284d2183",
   "metadata": {},
   "source": [
    "# Create a new dataframe from the new data list\n",
    "new_df = pd.DataFrame(new_data, columns=[\"ID\", \"First Evolution\", \"Second Evolution\", \"Third Evolution\"])"
   ]
  },
  {
   "cell_type": "markdown",
   "id": "b8dd8371",
   "metadata": {},
   "source": [
    "print(new_df)"
   ]
  }
 ],
 "metadata": {
  "kernelspec": {
   "display_name": "Python 3 (ipykernel)",
   "language": "python",
   "name": "python3"
  },
  "language_info": {
   "codemirror_mode": {
    "name": "ipython",
    "version": 3
   },
   "file_extension": ".py",
   "mimetype": "text/x-python",
   "name": "python",
   "nbconvert_exporter": "python",
   "pygments_lexer": "ipython3",
   "version": "3.9.7"
  },
  "vscode": {
   "interpreter": {
    "hash": "95fe6857be693b9e69482a8c95db1bfbfa8a8bd58a5b8364c8a89ed50163198c"
   }
  }
 },
 "nbformat": 4,
 "nbformat_minor": 5
}
